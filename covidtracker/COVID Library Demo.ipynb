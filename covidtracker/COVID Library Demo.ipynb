{
 "cells": [
  {
   "cell_type": "code",
   "execution_count": null,
   "metadata": {},
   "outputs": [],
   "source": [
    "from covidtracker import CovidTracker\n",
    "import numpy as np\n",
    "import pandas as pd\n",
    "import matplotlib.pyplot as plt\n",
    "%matplotlib inline"
   ]
  },
  {
   "cell_type": "code",
   "execution_count": null,
   "metadata": {},
   "outputs": [],
   "source": [
    "cd = CovidTracker()\n",
    "cd.load_counties()\n",
    "cd.load_population()\n",
    "cd.load_maskstats()"
   ]
  },
  {
   "cell_type": "code",
   "execution_count": null,
   "metadata": {},
   "outputs": [],
   "source": [
    "mrd = cd.getmostrecentdate()\n",
    "mrd"
   ]
  },
  {
   "cell_type": "code",
   "execution_count": null,
   "metadata": {},
   "outputs": [],
   "source": [
    "df = cd.getdateframe(mrd, True, True, True)\n",
    "#df = df.groupby('state').sum()\n",
    "df['case rate']=df['cases']/df['pop']\n",
    "df['death rate']=df['deaths']/df['pop']\n",
    "df['deaths per case'] = df['deaths']/df['cases']\n",
    "#df = df.dropna(how='any')\n",
    "df = df[df['pop']>100000]\n",
    "#df = df.loc[['Texas'],:]\n",
    "df.sort_values('ALWAYS', ascending=False)"
   ]
  },
  {
   "cell_type": "code",
   "execution_count": null,
   "metadata": {},
   "outputs": [],
   "source": [
    "cr = df['case rate']\n",
    "always = df['ALWAYS']\n",
    "freq = df['FREQUENTLY']\n",
    "never = df['NEVER']\n",
    "often = always+freq\n",
    "cr.corr(never)"
   ]
  },
  {
   "cell_type": "code",
   "execution_count": null,
   "metadata": {},
   "outputs": [],
   "source": [
    "df = cd.getdateframe(mrd, True, True)\n",
    "df = df.groupby('state').sum()\n",
    "df['case rate']=df['cases']/df['pop']\n",
    "df['death rate']=df['deaths']/df['pop']\n",
    "df = df.replace([np.inf, -np.inf], np.nan)\n",
    "df = df.dropna(how='any')\n",
    "#df = df[df['pop']>100000]\n",
    "#df = df.loc[['Florida'],:]\n",
    "#df.style.format({'case rate':'{:.2p}'})\n",
    "df.sort_values('death rate', ascending=False)"
   ]
  },
  {
   "cell_type": "code",
   "execution_count": null,
   "metadata": {},
   "outputs": [],
   "source": [
    "cd.plotcounty([('Texas', 'Bexar'), ('North Carolina', 'Mecklenburg'), ('South Carolina', 'Horry'),\n",
    "              ('Texas', 'Nueces'), ('Arkansas', 'Hot Spring'), ('Texas', 'Anderson')])"
   ]
  },
  {
   "cell_type": "code",
   "execution_count": null,
   "metadata": {},
   "outputs": [],
   "source": [
    "df=cd.getperiodchange(mrd, days=14, includepop=True, includemaskuse=True)\n",
    "df['case rate']=df['cases']/df['pop']\n",
    "df['death rate']=df['deaths']/df['pop']\n",
    "df = df.replace([np.inf, -np.inf], np.nan)\n",
    "df = df.dropna(how='any')\n",
    "#df = df.loc['Illinois',:]\n",
    "df.sort_values('case rate', ascending=False)"
   ]
  },
  {
   "cell_type": "code",
   "execution_count": null,
   "metadata": {},
   "outputs": [],
   "source": [
    "df.columns"
   ]
  },
  {
   "cell_type": "code",
   "execution_count": null,
   "metadata": {},
   "outputs": [],
   "source": [
    "lowmaskuse=df['NEVER']+df['RARELY']\n",
    "highmaskuse=df['FREQUENTLY']+df['ALWAYS']\n",
    "lowmaskuse.corr(df['case rate'])"
   ]
  },
  {
   "cell_type": "code",
   "execution_count": null,
   "metadata": {},
   "outputs": [],
   "source": [
    "df=cd.getperiodchange(mrd, days=14, includepop=True, includemaskuse=True)\n",
    "df=df.groupby('state').sum() \n",
    "df['case rate']=df['cases']/df['pop']\n",
    "df['death rate']=df['deaths']/df['pop']\n",
    "df=df.replace([np.inf, -np.inf], np.nan)\n",
    "df.sort_values('case rate', ascending=False)"
   ]
  },
  {
   "cell_type": "code",
   "execution_count": null,
   "metadata": {},
   "outputs": [],
   "source": [
    "cd.plotcounty([('Pennsylvania', 'Montgomery'), ('Pennsylvania', 'Bucks'), ('Pennsylvania', 'Delaware'), ('Massachusetts', 'Middlesex')], stat='cases')"
   ]
  },
  {
   "cell_type": "code",
   "execution_count": null,
   "metadata": {},
   "outputs": [],
   "source": [
    "cd.plotrollingmean(window=7, stat='deaths')"
   ]
  },
  {
   "cell_type": "code",
   "execution_count": null,
   "metadata": {},
   "outputs": [],
   "source": [
    "cd.plotrollingmean(window=7, stat='cases')"
   ]
  },
  {
   "cell_type": "code",
   "execution_count": null,
   "metadata": {},
   "outputs": [],
   "source": [
    "priorday=cd.getdateframe(mrd, includepop=True, includemaskuse=True)\n",
    "ca=priorday[priorday['state']=='California'].sort_values('cases', ascending=False)\n",
    "ca['case rate']=ca['cases']/ca['pop']\n",
    "ca['death rate']=ca['deaths']/ca['pop']\n",
    "ca.sort_values('case rate', ascending=False)"
   ]
  },
  {
   "cell_type": "code",
   "execution_count": null,
   "metadata": {},
   "outputs": [],
   "source": [
    "cr = ca['case rate']\n",
    "always = ca['ALWAYS']\n",
    "freq = ca['FREQUENTLY']\n",
    "often = always+freq\n",
    "never = ca['NEVER']\n",
    "rarely = ca['RARELY']\n",
    "sometimes = ca['SOMETIMES']\n",
    "regularly = often+sometimes\n",
    "\n",
    "cr.corr(regularly)"
   ]
  },
  {
   "cell_type": "code",
   "execution_count": null,
   "metadata": {},
   "outputs": [],
   "source": [
    "w=7\n",
    "s='cases'\n",
    "states = ['California', 'Arizona', 'Texas', 'Georgia', 'Florida', 'North Carolina', 'Tennessee', 'Virginia', 'New York', \n",
    "          'New Jersey', 'Pennsylvania', 'Ohio', 'Michigan', 'Wisconsin', 'Illinois', 'Iowa', 'Missouri',\n",
    "          'Oklahoma', 'New Mexico', 'Oregon', 'Washington', 'Colorado', 'Utah', 'Montana', 'North Dakota', 'South Dakota']\n",
    "for state in states:\n",
    "    cd.plotrollingmean_state(state, window=w, stat=s)"
   ]
  },
  {
   "cell_type": "code",
   "execution_count": null,
   "metadata": {},
   "outputs": [],
   "source": [
    "cd.plotdiffseriescompare_state('Texas', 'California', stat='deaths', startdate='2020-06-01')"
   ]
  },
  {
   "cell_type": "code",
   "execution_count": null,
   "metadata": {},
   "outputs": [],
   "source": [
    "cd.plotstate(['California', 'Texas', 'Florida', 'New Jersey'], stat='deaths')"
   ]
  },
  {
   "cell_type": "code",
   "execution_count": null,
   "metadata": {},
   "outputs": [],
   "source": [
    "cd.plotcounty([('Illinois', 'Cook')], stat='cases')"
   ]
  },
  {
   "cell_type": "code",
   "execution_count": null,
   "metadata": {},
   "outputs": [],
   "source": [
    "dperc = cd.getdeathspercase(mrd)\n",
    "dperc = dperc.loc[dperc['cases']>2000]\n",
    "dperc.sort_values('deaths per case', ascending=False"
   ]
  },
  {
   "cell_type": "code",
   "execution_count": null,
   "metadata": {},
   "outputs": [],
   "source": [
    "cd.plotdiffseries_county('Pennsylvania', 'Montgomery')"
   ]
  },
  {
   "cell_type": "code",
   "execution_count": null,
   "metadata": {},
   "outputs": [],
   "source": [
    "cdf = cd.getcountyframe('New York', 'Saratoga')\n",
    "cdf"
   ]
  },
  {
   "cell_type": "code",
   "execution_count": null,
   "metadata": {},
   "outputs": [],
   "source": []
  },
  {
   "cell_type": "code",
   "execution_count": null,
   "metadata": {},
   "outputs": [],
   "source": []
  }
 ],
 "metadata": {
  "kernelspec": {
   "display_name": "Python 3",
   "language": "python",
   "name": "python3"
  },
  "language_info": {
   "codemirror_mode": {
    "name": "ipython",
    "version": 3
   },
   "file_extension": ".py",
   "mimetype": "text/x-python",
   "name": "python",
   "nbconvert_exporter": "python",
   "pygments_lexer": "ipython3",
   "version": "3.6.5"
  }
 },
 "nbformat": 4,
 "nbformat_minor": 2
}
