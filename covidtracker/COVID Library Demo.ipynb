{
 "cells": [
  {
   "cell_type": "code",
   "execution_count": null,
   "metadata": {},
   "outputs": [],
   "source": [
    "from covidtracker import CovidTracker\n",
    "import numpy as np\n",
    "import pandas as pd\n",
    "import matplotlib.pyplot as plt\n",
    "%matplotlib inline"
   ]
  },
  {
   "cell_type": "code",
   "execution_count": null,
   "metadata": {},
   "outputs": [],
   "source": [
    "cd = CovidTracker()\n",
    "cd.load_counties()\n",
    "cd.load_population()"
   ]
  },
  {
   "cell_type": "code",
   "execution_count": null,
   "metadata": {},
   "outputs": [],
   "source": [
    "mrd = cd.getmostrecentdate()\n",
    "mrd"
   ]
  },
  {
   "cell_type": "code",
   "execution_count": null,
   "metadata": {},
   "outputs": [],
   "source": [
    "df = cd.getdateframe('2020-07-04', True, True)\n",
    "#df = df.groupby('state').sum()\n",
    "df['case rate']=df['cases']/df['pop']\n",
    "df['death rate']=df['deaths']/df['pop']\n",
    "df = df.dropna(how='any')\n",
    "#df = df[df['pop']>100000]\n",
    "df = df.loc[['Pennsylvania'],:]\n",
    "df.sort_values('pop', ascending=False)"
   ]
  },
  {
   "cell_type": "code",
   "execution_count": null,
   "metadata": {},
   "outputs": [],
   "source": [
    "cd.plotcounty([('Arizona', 'Maricopa'), ('Texas', 'Bexar'), ('North Carolina', 'Mecklenburg'), ('South Carolina', 'Horry')])"
   ]
  },
  {
   "cell_type": "code",
   "execution_count": null,
   "metadata": {},
   "outputs": [],
   "source": [
    "df=cd.getperiodchange('2020-07-04', days=7)\n",
    "df.sort_values('cases', ascending=False)"
   ]
  },
  {
   "cell_type": "code",
   "execution_count": null,
   "metadata": {},
   "outputs": [],
   "source": [
    "df=cd.getperiodchange('2020-06-30', days=1)\n",
    "df.sort_values('deaths', ascending=False)"
   ]
  },
  {
   "cell_type": "code",
   "execution_count": null,
   "metadata": {},
   "outputs": [],
   "source": [
    "cd.plotcounty([('Pennsylvania', 'Montgomery'), ('Pennsylvania', 'Bucks'), ('Pennsylvania', 'Delaware'), \n",
    "                 ('Pennsylvania', 'Philadelphia')], stat='cases')"
   ]
  },
  {
   "cell_type": "code",
   "execution_count": null,
   "metadata": {},
   "outputs": [],
   "source": [
    "cd.plotrollingmean(window=7, stat='cases')"
   ]
  },
  {
   "cell_type": "code",
   "execution_count": null,
   "metadata": {},
   "outputs": [],
   "source": [
    "priorday=cd.getdateframe('2020-06-30')\n",
    "ny=priorday[priorday['state']=='New York'].sort_values('cases', ascending=False)\n",
    "ny"
   ]
  },
  {
   "cell_type": "code",
   "execution_count": null,
   "metadata": {},
   "outputs": [],
   "source": [
    "ca.sort_values('deaths per case', ascending=False)"
   ]
  },
  {
   "cell_type": "code",
   "execution_count": null,
   "metadata": {},
   "outputs": [],
   "source": [
    "w=7\n",
    "s='cases'\n",
    "cd.plotrollingmean_state('California', window=w, stat=s)\n",
    "cd.plotrollingmean_state('Arizona', window=w, stat=s)\n",
    "cd.plotrollingmean_state('Texas', window=w, stat=s)\n",
    "cd.plotrollingmean_state('Georgia', window=w, stat=s)\n",
    "cd.plotrollingmean_state('Florida', window=w, stat=s)\n",
    "cd.plotrollingmean_state('North Carolina', window=w, stat=s)\n",
    "cd.plotrollingmean_state('New York', window=w, stat=s)\n",
    "cd.plotrollingmean_state('New Jersey', window=w, stat=s)\n",
    "cd.plotrollingmean_state('Pennsylvania', window=w, stat=s)\n",
    "cd.plotrollingmean_state('Ohio', window=w, stat=s)\n",
    "cd.plotrollingmean_state('Michigan', window=w, stat=s)\n",
    "cd.plotrollingmean_state('Oklahoma', window=w, stat=s)"
   ]
  },
  {
   "cell_type": "code",
   "execution_count": null,
   "metadata": {},
   "outputs": [],
   "source": [
    "cd.plotdiffseriescompare_state('Texas', 'California', stat='cases', startdate='2020-05-01')"
   ]
  },
  {
   "cell_type": "code",
   "execution_count": null,
   "metadata": {},
   "outputs": [],
   "source": [
    "cd.plotstate(['California', 'Texas', 'Florida', 'New Jersey'], stat='deaths')"
   ]
  },
  {
   "cell_type": "code",
   "execution_count": null,
   "metadata": {},
   "outputs": [],
   "source": [
    "cd.plotcounty([('Florida', 'Miami-Dade'),('Florida','Pinellas')], stat='cases')"
   ]
  },
  {
   "cell_type": "code",
   "execution_count": null,
   "metadata": {},
   "outputs": [],
   "source": [
    "dperc = cd.getdeathspercase('2020-06-28')\n",
    "dperc = dperc.loc[dperc['cases']>2000]\n",
    "dperc.sort_values('deaths per case', ascending=False)"
   ]
  },
  {
   "cell_type": "code",
   "execution_count": null,
   "metadata": {},
   "outputs": [],
   "source": [
    "dateframe = cd.getnationaltimeseries()\n",
    "dateframe.rolling(window=7).mean().plot()"
   ]
  },
  {
   "cell_type": "code",
   "execution_count": null,
   "metadata": {},
   "outputs": [],
   "source": [
    "cd.plotstate('Pennsylvania')"
   ]
  },
  {
   "cell_type": "code",
   "execution_count": null,
   "metadata": {},
   "outputs": [],
   "source": [
    "from uspop import UsPop"
   ]
  },
  {
   "cell_type": "code",
   "execution_count": null,
   "metadata": {},
   "outputs": [],
   "source": [
    "pop = UsPop()\n",
    "pop.load()\n",
    "pop.lookupstate('New York')"
   ]
  },
  {
   "cell_type": "code",
   "execution_count": null,
   "metadata": {},
   "outputs": [],
   "source": [
    "pop.stateframe.loc['Alabama']+7"
   ]
  },
  {
   "cell_type": "code",
   "execution_count": null,
   "metadata": {},
   "outputs": [],
   "source": []
  }
 ],
 "metadata": {
  "kernelspec": {
   "display_name": "Python 3",
   "language": "python",
   "name": "python3"
  },
  "language_info": {
   "codemirror_mode": {
    "name": "ipython",
    "version": 3
   },
   "file_extension": ".py",
   "mimetype": "text/x-python",
   "name": "python",
   "nbconvert_exporter": "python",
   "pygments_lexer": "ipython3",
   "version": "3.6.5"
  }
 },
 "nbformat": 4,
 "nbformat_minor": 2
}
