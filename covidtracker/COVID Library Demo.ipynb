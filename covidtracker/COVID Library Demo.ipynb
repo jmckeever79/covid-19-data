{
 "cells": [
  {
   "cell_type": "code",
   "execution_count": null,
   "metadata": {},
   "outputs": [],
   "source": [
    "from covidtracker import CovidTracker\n",
    "import numpy as np\n",
    "import pandas as pd\n",
    "import matplotlib.pyplot as plt\n",
    "%matplotlib inline"
   ]
  },
  {
   "cell_type": "code",
   "execution_count": null,
   "metadata": {},
   "outputs": [],
   "source": [
    "cd = CovidTracker()\n",
    "cd.load_counties()"
   ]
  },
  {
   "cell_type": "code",
   "execution_count": null,
   "metadata": {},
   "outputs": [],
   "source": [
    "mrd=cd.getmostrecentdate()\n",
    "mrd"
   ]
  },
  {
   "cell_type": "code",
   "execution_count": null,
   "metadata": {},
   "outputs": [],
   "source": [
    "df=cd.getperiodchange('2020-06-17', days=14)\n",
    "df=df.groupby('state').sum().sort_values('cases', ascending=False)\n",
    "df2=cd.getperiodchange('2020-06-03', days=14)\n",
    "df2=df2.groupby('state').sum().sort_values('cases', ascending=False)\n",
    "\n",
    "state='Nevada'\n",
    "print(df.xs(state))\n",
    "print(df2.xs(state))"
   ]
  },
  {
   "cell_type": "code",
   "execution_count": null,
   "metadata": {},
   "outputs": [],
   "source": [
    "df=cd.getperiodchange('2020-06-03', days=14)\n",
    "df.groupby('state').sum().sort_values('cases', ascending=False)"
   ]
  },
  {
   "cell_type": "code",
   "execution_count": null,
   "metadata": {},
   "outputs": [],
   "source": [
    "cd.plot_county([('Pennsylvania', 'Montgomery'), ('Pennsylvania', 'Bucks'), ('Pennsylvania', 'Delaware'), \n",
    "                 ('Pennsylvania', 'Philadelphia')], stat='cases')"
   ]
  },
  {
   "cell_type": "code",
   "execution_count": null,
   "metadata": {},
   "outputs": [],
   "source": [
    "cd.plotrollingmean(window=7, stat='deaths')"
   ]
  },
  {
   "cell_type": "code",
   "execution_count": null,
   "metadata": {},
   "outputs": [],
   "source": [
    "w=7\n",
    "s='deaths'\n",
    "cd.plotrollingmean_state('California', window=w, stat=s)\n",
    "cd.plotrollingmean_state('Arizona', window=w, stat=s)\n",
    "cd.plotrollingmean_state('Texas', window=w, stat=s)\n",
    "cd.plotrollingmean_state('Georgia', window=w, stat=s)\n",
    "cd.plotrollingmean_state('Florida', window=w, stat=s)\n",
    "cd.plotrollingmean_state('New York', window=w, stat=s, startdate='2020-05-01')\n",
    "cd.plotrollingmean_state('Pennsylvania', window=w, stat=s)\n",
    "cd.plotrollingmean_state('Ohio', window=w, stat=s)\n",
    "cd.plotrollingmean_state('Michigan', window=w, stat=s)"
   ]
  },
  {
   "cell_type": "code",
   "execution_count": null,
   "metadata": {},
   "outputs": [],
   "source": [
    "cd.plotdiffseriescompare_state('Georgia', 'Texas', stat='cases', startdate='2020-05-01')"
   ]
  },
  {
   "cell_type": "code",
   "execution_count": null,
   "metadata": {},
   "outputs": [],
   "source": [
    "cd.plotstate(['California','Pennsylvania'], stat='cases')"
   ]
  },
  {
   "cell_type": "code",
   "execution_count": null,
   "metadata": {},
   "outputs": [],
   "source": [
    "cd.plot_county([('New York', 'Saratoga'),\n",
    "   ('New York', 'Dutchess'),('New York', 'Washington')])"
   ]
  },
  {
   "cell_type": "code",
   "execution_count": null,
   "metadata": {},
   "outputs": [],
   "source": [
    "dperc = cd.getdeathspercase('2020-06-05')\n",
    "dperc = dperc.loc[dperc['cases']>2000]\n",
    "dperc.sort_values('deaths per case', ascending=False)"
   ]
  },
  {
   "cell_type": "code",
   "execution_count": null,
   "metadata": {},
   "outputs": [],
   "source": [
    "dateframe = cd.getnationaltimeseries()\n",
    "dateframe.rolling(window=7).mean().plot()"
   ]
  }
 ],
 "metadata": {
  "kernelspec": {
   "display_name": "Python 3",
   "language": "python",
   "name": "python3"
  },
  "language_info": {
   "codemirror_mode": {
    "name": "ipython",
    "version": 3
   },
   "file_extension": ".py",
   "mimetype": "text/x-python",
   "name": "python",
   "nbconvert_exporter": "python",
   "pygments_lexer": "ipython3",
   "version": "3.6.5"
  }
 },
 "nbformat": 4,
 "nbformat_minor": 2
}
