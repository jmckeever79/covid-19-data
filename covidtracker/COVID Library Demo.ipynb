{
 "cells": [
  {
   "cell_type": "code",
   "execution_count": null,
   "metadata": {},
   "outputs": [],
   "source": [
    "from covidtracker import CovidTracker\n",
    "import numpy as np\n",
    "import pandas as pd\n",
    "import matplotlib.pyplot as plt\n",
    "%matplotlib inline"
   ]
  },
  {
   "cell_type": "code",
   "execution_count": null,
   "metadata": {},
   "outputs": [],
   "source": [
    "cd = CovidTracker()\n",
    "cd.load_counties()\n",
    "cd.load_population()"
   ]
  },
  {
   "cell_type": "code",
   "execution_count": null,
   "metadata": {},
   "outputs": [],
   "source": [
    "mrd = cd.getmostrecentdate()\n",
    "mrd"
   ]
  },
  {
   "cell_type": "code",
   "execution_count": null,
   "metadata": {},
   "outputs": [],
   "source": [
    "df = cd.getdateframe(mrd, True, True)\n",
    "#df = df.groupby('state').sum()\n",
    "df['case rate']=df['cases']/df['pop']\n",
    "df['death rate']=df['deaths']/df['pop']\n",
    "df = df.dropna(how='any')\n",
    "df = df[df['pop']>100000]\n",
    "#df = df.loc[['Texas'],:]\n",
    "df.sort_values('case rate', ascending=False)"
   ]
  },
  {
   "cell_type": "code",
   "execution_count": null,
   "metadata": {},
   "outputs": [],
   "source": [
    "df = cd.getdateframe(mrd, True, True)\n",
    "df = df.groupby('state').sum()\n",
    "df['case rate']=df['cases']/df['pop']\n",
    "df['death rate']=df['deaths']/df['pop']\n",
    "df = df.replace([np.inf, -np.inf], np.nan)\n",
    "df = df.dropna(how='any')\n",
    "#df = df[df['pop']>100000]\n",
    "#df = df.loc[['Florida'],:]\n",
    "#df.style.format({'case rate':'{:.2p}'})\n",
    "df.sort_values('case rate', ascending=False)"
   ]
  },
  {
   "cell_type": "code",
   "execution_count": null,
   "metadata": {},
   "outputs": [],
   "source": [
    "cd.plotcounty([('Texas', 'Bexar'), ('North Carolina', 'Mecklenburg'), ('South Carolina', 'Horry'),\n",
    "              ('Texas', 'Nueces'), ('Arkansas', 'Hot Spring'), ('Texas', 'Anderson')])"
   ]
  },
  {
   "cell_type": "code",
   "execution_count": null,
   "metadata": {},
   "outputs": [],
   "source": [
    "df=cd.getperiodchange(mrd, days=7, includepop=True, case_cap=500)\n",
    "df['case rate']=df['cases']/df['pop']\n",
    "df['death rate']=df['deaths']/df['pop']\n",
    "df = df.replace([np.inf, -np.inf], np.nan)\n",
    "df = df.dropna(how='any')\n",
    "df.sort_values('cases', ascending=False)"
   ]
  },
  {
   "cell_type": "code",
   "execution_count": null,
   "metadata": {},
   "outputs": [],
   "source": [
    "df=cd.getperiodchange(mrd, days=7, case_cap=500, includepop=True).replace([np.inf], np.nan).dropna()\n",
    "df['case rate']=df['cases']/df['pop']\n",
    "df['death rate']=df['deaths']/df['pop']\n",
    "df = df.replace([np.inf, -np.inf], np.nan)\n",
    "df = df.dropna(how='any')\n",
    "df.sort_values('case rate', ascending=False)"
   ]
  },
  {
   "cell_type": "code",
   "execution_count": null,
   "metadata": {},
   "outputs": [],
   "source": [
    "cd.plotcounty([('Pennsylvania', 'Montgomery'), ('Pennsylvania', 'Bucks'), ('Pennsylvania', 'Delaware')], stat='cases')"
   ]
  },
  {
   "cell_type": "code",
   "execution_count": null,
   "metadata": {},
   "outputs": [],
   "source": [
    "cd.plotrollingmean(window=7, stat='deaths')"
   ]
  },
  {
   "cell_type": "code",
   "execution_count": null,
   "metadata": {},
   "outputs": [],
   "source": [
    "cd.plotrollingmean(window=7, stat='cases')"
   ]
  },
  {
   "cell_type": "code",
   "execution_count": null,
   "metadata": {},
   "outputs": [],
   "source": [
    "priorday=cd.getdateframe(mrd, includepop=True)\n",
    "ny=priorday[priorday['state']=='New York'].sort_values('cases', ascending=False)\n",
    "ny"
   ]
  },
  {
   "cell_type": "code",
   "execution_count": null,
   "metadata": {},
   "outputs": [],
   "source": [
    "w=7\n",
    "s='cases'\n",
    "states = ['California', 'Arizona', 'Texas', 'Georgia', 'Florida', 'North Carolina', 'Tennessee', 'Virginia', 'New York', 'New Jersey',\n",
    "         'Pennsylvania', 'Ohio', 'Michigan', 'Wisconsin', 'Illinois', 'Oklahoma', 'New Mexico', 'Oregon', 'Washington', 'Colorado']\n",
    "for state in states:\n",
    "    cd.plotrollingmean_state(state, window=w, stat=s)"
   ]
  },
  {
   "cell_type": "code",
   "execution_count": null,
   "metadata": {},
   "outputs": [],
   "source": [
    "cd.plotdiffseriescompare_state('Texas', 'California', stat='cases', startdate='2020-05-01')"
   ]
  },
  {
   "cell_type": "code",
   "execution_count": null,
   "metadata": {},
   "outputs": [],
   "source": [
    "cd.plotstate(['California', 'Texas', 'Florida', 'New Jersey'], stat='deaths')"
   ]
  },
  {
   "cell_type": "code",
   "execution_count": null,
   "metadata": {},
   "outputs": [],
   "source": [
    "cd.plotcounty([('Florida', 'Miami-Dade'),('Florida','Pinellas')], stat='cases')"
   ]
  },
  {
   "cell_type": "code",
   "execution_count": null,
   "metadata": {},
   "outputs": [],
   "source": [
    "dperc = cd.getdeathspercase(mrd)\n",
    "dperc = dperc.loc[dperc['cases']>2000]\n",
    "dperc.sort_values('deaths per case', ascending=False)"
   ]
  },
  {
   "cell_type": "code",
   "execution_count": null,
   "metadata": {},
   "outputs": [],
   "source": [
    "cd.plotcounty([('New York', 'Saratoga')])"
   ]
  },
  {
   "cell_type": "code",
   "execution_count": null,
   "metadata": {},
   "outputs": [],
   "source": [
    "cdf = cd.getcountyframe('New York', 'Saratoga')\n",
    "cdf"
   ]
  },
  {
   "cell_type": "code",
   "execution_count": null,
   "metadata": {},
   "outputs": [],
   "source": []
  }
 ],
 "metadata": {
  "kernelspec": {
   "display_name": "Python 3",
   "language": "python",
   "name": "python3"
  },
  "language_info": {
   "codemirror_mode": {
    "name": "ipython",
    "version": 3
   },
   "file_extension": ".py",
   "mimetype": "text/x-python",
   "name": "python",
   "nbconvert_exporter": "python",
   "pygments_lexer": "ipython3",
   "version": "3.6.5"
  }
 },
 "nbformat": 4,
 "nbformat_minor": 2
}
